{
 "cells": [
  {
   "cell_type": "markdown",
   "metadata": {},
   "source": [
    "https://qiskit.org/documentation/tutorials/chemistry/03_ground_state_solvers.html\n",
    "\n",
    "このチュートリアルでは、Qiskit Chemistryの基底状態計算インターフェースについて説明します。目標は分子ハミルトニアンの基底状態を計算することです。このハミルトニアンは電子的または振動的なものである可能性があります。ハミルトニアンの準備についての詳細は、電子構造とバイブロニック構造のチュートリアルをチェックしてください。\n",
    "\n",
    "最初のステップは、分子系を定義することです。以下では、水素分子の電子部分を求めます。"
   ]
  },
  {
   "cell_type": "code",
   "execution_count": 2,
   "metadata": {},
   "outputs": [],
   "source": [
    "from qiskit.chemistry.drivers import PySCFDriver, UnitsType, Molecule\n",
    "from qiskit.chemistry.transformations import FermionicTransformation, FermionicQubitMappingType\n",
    "\n",
    "molecule = Molecule(geometry=[['H', [0., 0., 0.]],\n",
    "                              ['H', [0., 0., 0.735]]],\n",
    "                     charge=0, multiplicity=1)\n",
    "driver = PySCFDriver(molecule = molecule, unit=UnitsType.ANGSTROM, basis='sto3g')\n",
    "transformation = FermionicTransformation(qubit_mapping=FermionicQubitMappingType.JORDAN_WIGNER)"
   ]
  },
  {
   "cell_type": "markdown",
   "metadata": {},
   "source": [
    "## The Solver\n",
    "\n",
    "そこで、ソルバーを定義する必要があります。ソルバーとは、基底状態が計算されるアルゴリズムのことです。\n",
    "\n",
    "まず、純粋に古典的な例から始めましょう：NumPy最小値ソルバーです。このアルゴリズムはハミルトニアンを正確に対角化します。スケールは悪いですが、小さなシステムで量子アルゴリズムの結果を確認するために使用することができます。"
   ]
  },
  {
   "cell_type": "code",
   "execution_count": 3,
   "metadata": {},
   "outputs": [],
   "source": [
    "from qiskit.aqua.algorithms import NumPyMinimumEigensolver\n",
    "\n",
    "numpy_solver = NumPyMinimumEigensolver()"
   ]
  },
  {
   "cell_type": "markdown",
   "metadata": {},
   "source": [
    "基底状態を見つけるために、我々はまた、VQE（Variational Quantum Eigensolver）アルゴリズムを使用することができます。VQEアルゴリズムは、次の図に示すように、古典的なコンピュータと量子コンピュータの間で情報を交換することによって動作します。"
   ]
  },
  {
   "cell_type": "markdown",
   "metadata": {},
   "source": [
    "VQEソルバーを初期化してみましょう。"
   ]
  },
  {
   "cell_type": "code",
   "execution_count": 4,
   "metadata": {},
   "outputs": [],
   "source": [
    "from qiskit import BasicAer\n",
    "from qiskit.aqua import QuantumInstance\n",
    "from qiskit.chemistry.algorithms.ground_state_solvers.minimum_eigensolver_factories import VQEUCCSDFactory\n",
    "\n",
    "vqe_solver = VQEUCCSDFactory(QuantumInstance(BasicAer.get_backend('statevector_simulator')))\n"
   ]
  },
  {
   "cell_type": "markdown",
   "metadata": {},
   "source": [
    "VQEソルバーを定義するためには、2つの重要な要素が必要である。\n",
    "\n",
    "変分形式: ここでは、ユニタリー・カップルド・クラスター(UCC)を用います(例えば、[Physical Review A 98.2 (2018): 022322]を参照してください)。これは化学標準なので、UCCを使ったVQEの高速な初期化を可能にするファクトリが既に利用可能です。デフォルトでは、すべてのシングル励起とダブル励起を使用します。しかし、励起の種類(S, D, SD)や他のパラメータを選択することができます。\n",
    "\n",
    "初期状態：クビットの初期状態。上記のファクトリーでは、クビットはハートリーフォック（電子構造チュートリアルを参照）初期状態で初期化されています（占有MOに対応するクビットは｜1⟩で、仮想MOに対応するクビットは｜0⟩です）。\n",
    "\n",
    "バックエンド：これは、上の図の右の部分が実行される量子マシンです。ここでは、完全な量子エミュレータ（statevector_simulator）を使用します。\n",
    "\n",
    "また、利用可能な変分法や初期状態を使用することもできますし、独自の定義も可能です。例えば、以下のようになります。"
   ]
  },
  {
   "cell_type": "code",
   "execution_count": 10,
   "metadata": {},
   "outputs": [
    {
     "data": {
      "image/png": "[encoded data removed]",
      "text/plain": [
       "<Figure size 1531.4x264.88 with 1 Axes>"
      ]
     },
     "execution_count": 10,
     "metadata": {},
     "output_type": "execute_result"
    }
   ],
   "source": [
    "from qiskit.aqua.algorithms import VQE\n",
    "from qiskit.circuit.library import TwoLocal\n",
    "\n",
    "num_qubits = 4\n",
    "tl_circuit = TwoLocal(num_qubits, ['h', 'rx'], 'cz',\n",
    "                      entanglement='full', reps=3, parameter_prefix = 'y')\n",
    "\n",
    "tl_circuit.draw(output = 'mpl')"
   ]
  },
  {
   "cell_type": "code",
   "execution_count": 11,
   "metadata": {},
   "outputs": [],
   "source": [
    "another_solver = VQE(var_form = tl_circuit,\n",
    "                     quantum_instance = QuantumInstance(BasicAer.get_backend('statevector_simulator')))"
   ]
  },
  {
   "cell_type": "markdown",
   "metadata": {},
   "source": [
    "## The calculation and results\n",
    "\n",
    "これで計算を実行する準備が整いました。"
   ]
  },
  {
   "cell_type": "code",
   "execution_count": 6,
   "metadata": {},
   "outputs": [
    {
     "name": "stdout",
     "output_type": "stream",
     "text": [
      "=== GROUND STATE ENERGY ===\n",
      " \n",
      "* Electronic ground state energy (Hartree): -1.857275030145\n",
      "  - computed part:      -1.857275030145\n",
      "  - frozen energy part: 0.0\n",
      "  - particle hole part: 0.0\n",
      "~ Nuclear repulsion energy (Hartree): 0.719968994449\n",
      "> Total ground state energy (Hartree): -1.137306035696\n",
      " \n",
      "=== MEASURED OBSERVABLES ===\n",
      " \n",
      "  0:  # Particles: 2.000 S: 0.000 S^2: 0.000 M: 0.000\n",
      " \n",
      "=== DIPOLE MOMENTS ===\n",
      " \n",
      "~ Nuclear dipole moment (a.u.): [0.0  0.0  1.3889487]\n",
      " \n",
      "  0: \n",
      "  * Electronic dipole moment (a.u.): [0.0  0.0  1.38894866]\n",
      "    - computed part:      [0.0  0.0  1.38894866]\n",
      "    - frozen energy part: [0.0  0.0  0.0]\n",
      "    - particle hole part: [0.0  0.0  0.0]\n",
      "  > Dipole moment (a.u.): [0.0  0.0  0.00000004]  Total: 0.00000004\n",
      "                 (debye): [0.0  0.0  0.0000001]  Total: 0.0000001\n",
      " \n"
     ]
    }
   ],
   "source": [
    "from qiskit.chemistry.algorithms.ground_state_solvers import GroundStateEigensolver\n",
    "\n",
    "calc = GroundStateEigensolver(transformation, vqe_solver)\n",
    "res = calc.solve(driver)\n",
    "\n",
    "print(res)"
   ]
  },
  {
   "cell_type": "markdown",
   "metadata": {},
   "source": [
    "VQEの結果をNumPyの正確なソルバーと比較して、一致していることを確認することができます。"
   ]
  },
  {
   "cell_type": "code",
   "execution_count": 7,
   "metadata": {},
   "outputs": [
    {
     "name": "stdout",
     "output_type": "stream",
     "text": [
      "=== GROUND STATE ENERGY ===\n",
      " \n",
      "* Electronic ground state energy (Hartree): -1.857275030202\n",
      "  - computed part:      -1.857275030202\n",
      "  - frozen energy part: 0.0\n",
      "  - particle hole part: 0.0\n",
      "~ Nuclear repulsion energy (Hartree): 0.719968994449\n",
      "> Total ground state energy (Hartree): -1.137306035753\n",
      " \n",
      "=== MEASURED OBSERVABLES ===\n",
      " \n",
      "  0:  # Particles: 2.000 S: 0.000 S^2: 0.000 M: 0.000\n",
      " \n",
      "=== DIPOLE MOMENTS ===\n",
      " \n",
      "~ Nuclear dipole moment (a.u.): [0.0  0.0  1.3889487]\n",
      " \n",
      "  0: \n",
      "  * Electronic dipole moment (a.u.): [0.0  0.0  1.3889487]\n",
      "    - computed part:      [0.0  0.0  1.3889487]\n",
      "    - frozen energy part: [0.0  0.0  0.0]\n",
      "    - particle hole part: [0.0  0.0  0.0]\n",
      "  > Dipole moment (a.u.): [0.0  0.0  0.0]  Total: 0.\n",
      "                 (debye): [0.0  0.0  0.0]  Total: 0.\n",
      " \n"
     ]
    }
   ],
   "source": [
    "calc = GroundStateEigensolver(transformation, numpy_solver)\n",
    "res = calc.solve(driver)\n",
    "print(res)"
   ]
  },
  {
   "cell_type": "markdown",
   "metadata": {},
   "source": [
    "## Using a filter function\n",
    "\n",
    "時には、ハミルトニアンの真の基底状態は、ヒルベルト空間の異なる対称性セクタにあるため、興味を持たれないことがあります。この場合、NumPy固有値ソルバーは、例えば正しい粒子数を持つ固有状態のみを返すためのフィルタ関数を取ることができます。これは、ハミルトニアンの真の基底状態が真空状態である振動構造計算の場合に特に重要です。粒子数をチェックするためのデフォルトのフィルタ関数は、さまざまな変換に実装されており、以下のように使用できます。"
   ]
  },
  {
   "cell_type": "code",
   "execution_count": 9,
   "metadata": {},
   "outputs": [
    {
     "name": "stdout",
     "output_type": "stream",
     "text": [
      "=== GROUND STATE ENERGY ===\n",
      " \n",
      "* Vibronic ground state energy (cm^-1): -0j\n",
      "The number of occupied modals is\n",
      "- Mode 0: [0.0, 0.0, 0.0, 0.0]\n",
      "\n",
      "\n",
      "\n",
      "=== GROUND STATE ENERGY ===\n",
      " \n",
      "* Vibronic ground state energy (cm^-1): (2536.48797636242+0j)\n",
      "The number of occupied modals is\n",
      "- Mode 0: [1.0, 1.0, 1.0, 1.0]\n"
     ]
    },
    {
     "name": "stderr",
     "output_type": "stream",
     "text": [
      "/home/oryosu/anaconda3/envs/qiskit/lib/python3.7/site-packages/qiskit/chemistry/results/vibronic_structure_result.py:73: DeprecationWarning: The Python built-in `round` is deprecated for complex scalars, and will raise a `TypeError` in a future release. Use `np.round` or `scalar.round` instead.\n",
      "  format(round(self.computed_vibronic_energies[0], 12)))\n",
      "/home/oryosu/anaconda3/envs/qiskit/lib/python3.7/site-packages/qiskit/chemistry/results/vibronic_structure_result.py:73: DeprecationWarning: The Python built-in `round` is deprecated for complex scalars, and will raise a `TypeError` in a future release. Use `np.round` or `scalar.round` instead.\n",
      "  format(round(self.computed_vibronic_energies[0], 12)))\n"
     ]
    }
   ],
   "source": [
    "from qiskit.chemistry.drivers import GaussianForcesDriver\n",
    "from qiskit.chemistry.algorithms.ground_state_solvers import NumPyMinimumEigensolverFactory\n",
    "from qiskit.chemistry.transformations import (BosonicTransformation,\n",
    "                                              BosonicTransformationType,\n",
    "                                              BosonicQubitMappingType)\n",
    "\n",
    "driver = GaussianForcesDriver(logfile='aux_files/CO2_freq_B3LYP_ccpVDZ.log')\n",
    "bosonic_transformation = BosonicTransformation(qubit_mapping=BosonicQubitMappingType.DIRECT,\n",
    "                                               transformation_type=BosonicTransformationType.HARMONIC,\n",
    "                                               basis_size=2,\n",
    "                                               truncation=2)\n",
    "\n",
    "solver_without_filter = NumPyMinimumEigensolverFactory(use_default_filter_criterion=False)\n",
    "solver_with_filter = NumPyMinimumEigensolverFactory(use_default_filter_criterion=True)\n",
    "\n",
    "gsc_wo = GroundStateEigensolver(bosonic_transformation, solver_without_filter)\n",
    "result_wo = gsc_wo.solve(driver)\n",
    "\n",
    "gsc_w = GroundStateEigensolver(bosonic_transformation, solver_with_filter)\n",
    "result_w = gsc_w.solve(driver)\n",
    "\n",
    "print(result_wo)\n",
    "print('\\n\\n')\n",
    "print(result_w)"
   ]
  },
  {
   "cell_type": "code",
   "execution_count": null,
   "metadata": {},
   "outputs": [],
   "source": []
  }
 ],
 "metadata": {
  "kernelspec": {
   "display_name": "Python 3",
   "language": "python",
   "name": "python3"
  },
  "language_info": {
   "codemirror_mode": {
    "name": "ipython",
    "version": 3
   },
   "file_extension": ".py",
   "mimetype": "text/x-python",
   "name": "python",
   "nbconvert_exporter": "python",
   "pygments_lexer": "ipython3",
   "version": "3.7.9"
  }
 },
 "nbformat": 4,
 "nbformat_minor": 4
}
