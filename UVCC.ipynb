{
 "cells": [
  {
   "cell_type": "code",
   "execution_count": 2,
   "metadata": {},
   "outputs": [],
   "source": [
    "import numpy as np\n",
    "from numpy import pi\n",
    "# importing Qiskit\n",
    "from qiskit import QuantumCircuit, execute, Aer, IBMQ\n",
    "from qiskit.providers.ibmq import least_busy\n",
    "from qiskit.tools.monitor import job_monitor\n",
    "from qiskit.visualization import plot_histogram, plot_bloch_multivector\n",
    "from qiskit import QuantumCircuit, execute, Aer\n",
    "from qiskit.visualization import plot_histogram, plot_bloch_vector\n",
    "from math import sqrt, pi\n",
    "%config InlineBackend.figure_format = 'svg' # Makes the images look nice"
   ]
  },
  {
   "cell_type": "markdown",
   "metadata": {},
   "source": [
    "ここでは、基底状態のエネルギー推定に似た問題を解くために、単純な単一クォビット変分法を使用します。具体的には、ランダムな確率ベクトル x⃗ が与えられ、それが x⃗ に近い確率分布を出力するような単一クォビット変分法のパラメータ化を決定したいと考えています (ここで、近さは2つの確率ベクトル間のマンハッタン距離で定義されます)。\n",
    "\n",
    "まず、pythonでランダム確率ベクトルを作成します。"
   ]
  },
  {
   "cell_type": "code",
   "execution_count": 12,
   "metadata": {},
   "outputs": [
    {
     "name": "stdout",
     "output_type": "stream",
     "text": [
      "[0.51357006 0.48642994]\n"
     ]
    }
   ],
   "source": [
    "import numpy as np\n",
    "np.random.seed(999999)\n",
    "target_distr = np.random.rand(2)\n",
    "# We now convert the random vector into a valid probability vector\n",
    "target_distr /= sum(target_distr)\n",
    "print(target_distr)"
   ]
  },
  {
   "cell_type": "markdown",
   "metadata": {},
   "source": [
    "続いて、単一のU3変分形のパラメータを引数にとり、対応する量子回路を返す関数を作成します。"
   ]
  },
  {
   "cell_type": "code",
   "execution_count": 4,
   "metadata": {},
   "outputs": [],
   "source": [
    "from qiskit import QuantumCircuit, ClassicalRegister, QuantumRegister\n",
    "def get_var_form(params):\n",
    "    qr = QuantumRegister(1, name=\"q\")\n",
    "    cr = ClassicalRegister(1, name='c')\n",
    "    qc = QuantumCircuit(qr, cr)\n",
    "    qc.u3(params[0], params[1], params[2], qr[0])\n",
    "    qc.measure(qr, cr[0])\n",
    "    return qc"
   ]
  },
  {
   "cell_type": "markdown",
   "metadata": {},
   "source": [
    "ここでは、変分形式のパラメータのリストを入力として取り、それらのパラメータに関連するコストを返す目的関数を指定します。"
   ]
  },
  {
   "cell_type": "code",
   "execution_count": 5,
   "metadata": {},
   "outputs": [],
   "source": [
    "from qiskit import Aer, execute\n",
    "backend = Aer.get_backend(\"qasm_simulator\")\n",
    "NUM_SHOTS = 10000\n",
    "\n",
    "def get_probability_distribution(counts):\n",
    "    output_distr = [v / NUM_SHOTS for v in counts.values()]\n",
    "    if len(output_distr) == 1:\n",
    "        output_distr.append(1 - output_distr[0])\n",
    "    return output_distr\n",
    "\n",
    "def objective_function(params):\n",
    "    # Obtain a quantum circuit instance from the paramters\n",
    "    qc = get_var_form(params)\n",
    "    # Execute the quantum circuit to obtain the probability distribution associated with the current parameters\n",
    "    result = execute(qc, backend, shots=NUM_SHOTS).result()\n",
    "    # Obtain the counts for each measured state, and convert those counts into a probability vector\n",
    "    output_distr = get_probability_distribution(result.get_counts(qc))\n",
    "    # Calculate the cost as the distance between the output distribution and the target distribution\n",
    "    cost = sum([np.abs(output_distr[i] - target_distr[i]) for i in range(2)])\n",
    "    return cost"
   ]
  },
  {
   "cell_type": "markdown",
   "metadata": {},
   "source": [
    "最後に、COBYLAオプティマイザのインスタンスを作成し、アルゴリズムを実行します。実行するたびに出力が変化することに注意してください。また、近いうちは、得られた分布が目標分布と完全に一致しないことがありますが、ショット数を増やすことで、出力の精度が上がります。"
   ]
  },
  {
   "cell_type": "code",
   "execution_count": 13,
   "metadata": {},
   "outputs": [
    {
     "name": "stdout",
     "output_type": "stream",
     "text": [
      "<qiskit.aqua.components.optimizers.cobyla.COBYLA object at 0x7efc3802d2d0>\n",
      "[0.71980995 0.08125538 0.65299855]\n"
     ]
    },
    {
     "name": "stderr",
     "output_type": "stream",
     "text": [
      "/home/oryosu/anaconda3/envs/qiskit/lib/python3.7/site-packages/ipykernel_launcher.py:6: DeprecationWarning: The QuantumCircuit.u3 method is deprecated as of 0.16.0. It will be removed no earlier than 3 months after the release date. You should use QuantumCircuit.u instead, which acts identically. Alternatively, you can decompose u3 in terms of QuantumCircuit.p and QuantumCircuit.sx: u3(ϴ,φ,λ) = p(φ+π) sx p(ϴ+π) sx p(λ) (2 pulses on hardware).\n",
      "  \n"
     ]
    },
    {
     "name": "stdout",
     "output_type": "stream",
     "text": [
      "Target Distribution: [0.51357006 0.48642994]\n",
      "Obtained Distribution: [0.0001, 0.9999]\n",
      "Output Error (Manhattan Distance): 1.0269401187388392\n",
      "Parameters Found: [0.71980995 0.08125538 0.65299855]\n"
     ]
    }
   ],
   "source": [
    "from qiskit.aqua.components.optimizers import COBYLA\n",
    "\n",
    "# Initialize the COBYLA optimizer\n",
    "optimizer = COBYLA(maxiter=500, tol=0.0001)\n",
    "\n",
    "# Create the initial parameters (noting that our single qubit variational form has 3 parameters)\n",
    "params = np.random.rand(3)\n",
    "ret = optimizer.optimize(num_vars=3, objective_function=objective_function, initial_point=params)\n",
    "\n",
    "# Obtain the output distribution using the final parameters\n",
    "qc = get_var_form(ret[0])\n",
    "counts = execute(qc, backend, shots=NUM_SHOTS).result().get_counts(qc)\n",
    "output_distr = get_probability_distribution(counts)\n",
    "\n",
    "print(\"Target Distribution:\", target_distr)\n",
    "print(\"Obtained Distribution:\", output_distr)\n",
    "print(\"Output Error (Manhattan Distance):\", ret[1])\n",
    "print(\"Parameters Found:\", ret[0])"
   ]
  },
  {
   "cell_type": "markdown",
   "metadata": {},
   "source": [
    "すでに議論されているように、多項式パラメータ化された変分形は、任意の状態への変換を生成することができません。変分形式は、この制限にどのように対処するかによって、2つのカテゴリに分けることができます。最初のカテゴリの変分形式は、可能な出力状態のセットを制限するために、ドメインまたはアプリケーション固有の知識を使用します。第2のアプローチは、事前のドメインまたはアプリケーション固有の知識なしでヒューリスティック回路を使用します。\n",
    "\n",
    "第 1 のカテゴリーの変分形式は、必要とされる可能性のある変換のセットを制限するために、問題領域の特性を利用します。例えば、分子の基底状態エネルギーを計算する場合、系内の粒子数は事前に知られている。したがって、正しい粒子数の開始状態が使用されている場合、変分形式を粒子保存変換のみを生成するように制限することで、新しい変換部分空間にまたがるために必要なパラメータの数を大幅に削減することができます。実際、Coupled-Cluster理論からの同様の情報を利用することで、変分形式UCCSDは、Hartree Fock状態から出発したときの分子基底状態のエネルギー推定のために非常に正確な結果を得ることができる。領域固有の知識を利用するもう一つの例として、実際の量子ハードウェア上で実現可能な回路のセットを考えることが挙げられます。超伝導量子ビットをベースにした量子コンピュータは、量子ビットの接続性が限られています。つまり、任意の量子ビットペアに（スワップゲートを挿入せずに）2ビットゲートを実装することはできません。そのため、特定の量子コンピュータアーキテクチャのために、回路が特定の量子デバイスのネイティブに利用可能な接続性とゲートを最大限に利用できるように特別に調整された変分形が構築されてきました。このような変分形は、2017年にIBM量子コンピュータ上でBeH 2ほどの大きさの分子の基底状態エネルギーの推定のためのVQEの実装に成功するために使用されました[4]。\n",
    "\n",
    "第二のアプローチでは、ゲートは、広い範囲の状態で良好な近似が得られるように層状になっています。Qiskit Aquaは、このような3つの変分形式をサポートしています。RyRz、Ry、SwapRzです（最初の2つについてのみ説明します）。これらの変分形はすべて、ユーザーが指定した複数の設定を受け入れることができます。3つの重要な設定は、系内のクビット数、深さの設定、エンタングルメントの設定です。可変形の1つの層は、シングルクビットの回転とCXゲートの特定のパターンを指定します。深さ設定は、変分形式がこのパターンを何回繰り返すかを指定します。深さの設定を大きくすることで、最適化されなければならないパラメータの数を増やす代償として、変分形が生成できる状態のセットが増えます。最後に，もつれの設定は，CXゲートの構成，そして暗黙のうちに数を選択します．例えば、もつれ設定が線形の場合、CXゲートは隣接するクビットペアに順番に適用されます（したがって、レイヤごとにn-1のCXゲートが追加されます）。絡み合い設定がフルの場合は、各層の各クビットペアにCXゲートが適用されます。entanglement=\"full \"と \"linear \"に対応するRyRzの回路は、以下のコードスニペットを実行することで確認できます。"
   ]
  },
  {
   "cell_type": "code",
   "execution_count": 7,
   "metadata": {},
   "outputs": [
    {
     "name": "stdout",
     "output_type": "stream",
     "text": [
      "=============Linear Entanglement:=============\n"
     ]
    },
    {
     "data": {
      "text/html": [
       "<pre style=\"word-wrap: normal;white-space: pre;background: #fff0;line-height: 1.1;font-family: &quot;Courier New&quot;,Courier,monospace\">     ┌──────────┐┌──────────┐     ┌──────────┐┌───────────┐                          ┌───────────┐»\n",
       "q_0: ┤ RY(θ[0]) ├┤ RZ(θ[4]) ├──■──┤ RY(θ[8]) ├┤ RZ(θ[12]) ├───────────────────■──────┤ RY(θ[16]) ├»\n",
       "     ├──────────┤├──────────┤┌─┴─┐└──────────┘└┬──────────┤┌───────────┐    ┌─┴─┐    └───────────┘»\n",
       "q_1: ┤ RY(θ[1]) ├┤ RZ(θ[5]) ├┤ X ├─────■───────┤ RY(θ[9]) ├┤ RZ(θ[13]) ├────┤ X ├──────────■──────»\n",
       "     ├──────────┤├──────────┤└───┘   ┌─┴─┐     └──────────┘├───────────┤┌───┴───┴───┐    ┌─┴─┐    »\n",
       "q_2: ┤ RY(θ[2]) ├┤ RZ(θ[6]) ├────────┤ X ├──────────■──────┤ RY(θ[10]) ├┤ RZ(θ[14]) ├────┤ X ├────»\n",
       "     ├──────────┤├──────────┤        └───┘        ┌─┴─┐    ├───────────┤├───────────┤    └───┘    »\n",
       "q_3: ┤ RY(θ[3]) ├┤ RZ(θ[7]) ├─────────────────────┤ X ├────┤ RY(θ[11]) ├┤ RZ(θ[15]) ├─────────────»\n",
       "     └──────────┘└──────────┘                     └───┘    └───────────┘└───────────┘             »\n",
       "«     ┌───────────┐                          ┌───────────┐┌───────────┐                          \n",
       "«q_0: ┤ RZ(θ[20]) ├───────────────────■──────┤ RY(θ[24]) ├┤ RZ(θ[28]) ├──────────────────────────\n",
       "«     ├───────────┤┌───────────┐    ┌─┴─┐    └───────────┘├───────────┤┌───────────┐             \n",
       "«q_1: ┤ RY(θ[17]) ├┤ RZ(θ[21]) ├────┤ X ├──────────■──────┤ RY(θ[25]) ├┤ RZ(θ[29]) ├─────────────\n",
       "«     └───────────┘├───────────┤┌───┴───┴───┐    ┌─┴─┐    └───────────┘├───────────┤┌───────────┐\n",
       "«q_2: ──────■──────┤ RY(θ[18]) ├┤ RZ(θ[22]) ├────┤ X ├──────────■──────┤ RY(θ[26]) ├┤ RZ(θ[30]) ├\n",
       "«         ┌─┴─┐    ├───────────┤├───────────┤    └───┘        ┌─┴─┐    ├───────────┤├───────────┤\n",
       "«q_3: ────┤ X ├────┤ RY(θ[19]) ├┤ RZ(θ[23]) ├─────────────────┤ X ├────┤ RY(θ[27]) ├┤ RZ(θ[31]) ├\n",
       "«         └───┘    └───────────┘└───────────┘                 └───┘    └───────────┘└───────────┘</pre>"
      ],
      "text/plain": [
       "     ┌──────────┐┌──────────┐     ┌──────────┐┌───────────┐                          ┌───────────┐»\n",
       "q_0: ┤ RY(θ[0]) ├┤ RZ(θ[4]) ├──■──┤ RY(θ[8]) ├┤ RZ(θ[12]) ├───────────────────■──────┤ RY(θ[16]) ├»\n",
       "     ├──────────┤├──────────┤┌─┴─┐└──────────┘└┬──────────┤┌───────────┐    ┌─┴─┐    └───────────┘»\n",
       "q_1: ┤ RY(θ[1]) ├┤ RZ(θ[5]) ├┤ X ├─────■───────┤ RY(θ[9]) ├┤ RZ(θ[13]) ├────┤ X ├──────────■──────»\n",
       "     ├──────────┤├──────────┤└───┘   ┌─┴─┐     └──────────┘├───────────┤┌───┴───┴───┐    ┌─┴─┐    »\n",
       "q_2: ┤ RY(θ[2]) ├┤ RZ(θ[6]) ├────────┤ X ├──────────■──────┤ RY(θ[10]) ├┤ RZ(θ[14]) ├────┤ X ├────»\n",
       "     ├──────────┤├──────────┤        └───┘        ┌─┴─┐    ├───────────┤├───────────┤    └───┘    »\n",
       "q_3: ┤ RY(θ[3]) ├┤ RZ(θ[7]) ├─────────────────────┤ X ├────┤ RY(θ[11]) ├┤ RZ(θ[15]) ├─────────────»\n",
       "     └──────────┘└──────────┘                     └───┘    └───────────┘└───────────┘             »\n",
       "«     ┌───────────┐                          ┌───────────┐┌───────────┐                          \n",
       "«q_0: ┤ RZ(θ[20]) ├───────────────────■──────┤ RY(θ[24]) ├┤ RZ(θ[28]) ├──────────────────────────\n",
       "«     ├───────────┤┌───────────┐    ┌─┴─┐    └───────────┘├───────────┤┌───────────┐             \n",
       "«q_1: ┤ RY(θ[17]) ├┤ RZ(θ[21]) ├────┤ X ├──────────■──────┤ RY(θ[25]) ├┤ RZ(θ[29]) ├─────────────\n",
       "«     └───────────┘├───────────┤┌───┴───┴───┐    ┌─┴─┐    └───────────┘├───────────┤┌───────────┐\n",
       "«q_2: ──────■──────┤ RY(θ[18]) ├┤ RZ(θ[22]) ├────┤ X ├──────────■──────┤ RY(θ[26]) ├┤ RZ(θ[30]) ├\n",
       "«         ┌─┴─┐    ├───────────┤├───────────┤    └───┘        ┌─┴─┐    ├───────────┤├───────────┤\n",
       "«q_3: ────┤ X ├────┤ RY(θ[19]) ├┤ RZ(θ[23]) ├─────────────────┤ X ├────┤ RY(θ[27]) ├┤ RZ(θ[31]) ├\n",
       "«         └───┘    └───────────┘└───────────┘                 └───┘    └───────────┘└───────────┘"
      ]
     },
     "metadata": {},
     "output_type": "display_data"
    },
    {
     "name": "stdout",
     "output_type": "stream",
     "text": [
      "\n",
      "=============Full Entanglement:=============\n"
     ]
    },
    {
     "data": {
      "text/html": [
       "<pre style=\"word-wrap: normal;white-space: pre;background: #fff0;line-height: 1.1;font-family: &quot;Courier New&quot;,Courier,monospace\">     ┌──────────┐┌──────────┐               ┌──────────┐┌───────────┐                         »\n",
       "q_0: ┤ RY(θ[0]) ├┤ RZ(θ[4]) ├──■────■────■──┤ RY(θ[8]) ├┤ RZ(θ[12]) ├─────────────────────────»\n",
       "     ├──────────┤├──────────┤┌─┴─┐  │    │  └──────────┘└───────────┘┌──────────┐┌───────────┐»\n",
       "q_1: ┤ RY(θ[1]) ├┤ RZ(θ[5]) ├┤ X ├──┼────┼───────■────────────■──────┤ RY(θ[9]) ├┤ RZ(θ[13]) ├»\n",
       "     ├──────────┤├──────────┤└───┘┌─┴─┐  │     ┌─┴─┐          │      └──────────┘├───────────┤»\n",
       "q_2: ┤ RY(θ[2]) ├┤ RZ(θ[6]) ├─────┤ X ├──┼─────┤ X ├──────────┼───────────■──────┤ RY(θ[10]) ├»\n",
       "     ├──────────┤├──────────┤     └───┘┌─┴─┐   └───┘        ┌─┴─┐       ┌─┴─┐    ├───────────┤»\n",
       "q_3: ┤ RY(θ[3]) ├┤ RZ(θ[7]) ├──────────┤ X ├────────────────┤ X ├───────┤ X ├────┤ RY(θ[11]) ├»\n",
       "     └──────────┘└──────────┘          └───┘                └───┘       └───┘    └───────────┘»\n",
       "«                            ┌───────────┐┌───────────┐                                            »\n",
       "«q_0: ──────■────────■────■──┤ RY(θ[16]) ├┤ RZ(θ[20]) ├────────────────────────────────■────────■──»\n",
       "«         ┌─┴─┐      │    │  └───────────┘└───────────┘┌───────────┐┌───────────┐    ┌─┴─┐      │  »\n",
       "«q_1: ────┤ X ├──────┼────┼────────■────────────■──────┤ RY(θ[17]) ├┤ RZ(θ[21]) ├────┤ X ├──────┼──»\n",
       "«     ┌───┴───┴───┐┌─┴─┐  │      ┌─┴─┐          │      └───────────┘├───────────┤┌───┴───┴───┐┌─┴─┐»\n",
       "«q_2: ┤ RZ(θ[14]) ├┤ X ├──┼──────┤ X ├──────────┼────────────■──────┤ RY(θ[18]) ├┤ RZ(θ[22]) ├┤ X ├»\n",
       "«     ├───────────┤└───┘┌─┴─┐    └───┘        ┌─┴─┐        ┌─┴─┐    ├───────────┤├───────────┤└───┘»\n",
       "«q_3: ┤ RZ(θ[15]) ├─────┤ X ├─────────────────┤ X ├────────┤ X ├────┤ RY(θ[19]) ├┤ RZ(θ[23]) ├─────»\n",
       "«     └───────────┘     └───┘                 └───┘        └───┘    └───────────┘└───────────┘     »\n",
       "«          ┌───────────┐┌───────────┐                                       \n",
       "«q_0: ──■──┤ RY(θ[24]) ├┤ RZ(θ[28]) ├───────────────────────────────────────\n",
       "«       │  └───────────┘└───────────┘┌───────────┐┌───────────┐             \n",
       "«q_1: ──┼────────■────────────■──────┤ RY(θ[25]) ├┤ RZ(θ[29]) ├─────────────\n",
       "«       │      ┌─┴─┐          │      └───────────┘├───────────┤┌───────────┐\n",
       "«q_2: ──┼──────┤ X ├──────────┼────────────■──────┤ RY(θ[26]) ├┤ RZ(θ[30]) ├\n",
       "«     ┌─┴─┐    └───┘        ┌─┴─┐        ┌─┴─┐    ├───────────┤├───────────┤\n",
       "«q_3: ┤ X ├─────────────────┤ X ├────────┤ X ├────┤ RY(θ[27]) ├┤ RZ(θ[31]) ├\n",
       "«     └───┘                 └───┘        └───┘    └───────────┘└───────────┘</pre>"
      ],
      "text/plain": [
       "     ┌──────────┐┌──────────┐               ┌──────────┐┌───────────┐                         »\n",
       "q_0: ┤ RY(θ[0]) ├┤ RZ(θ[4]) ├──■────■────■──┤ RY(θ[8]) ├┤ RZ(θ[12]) ├─────────────────────────»\n",
       "     ├──────────┤├──────────┤┌─┴─┐  │    │  └──────────┘└───────────┘┌──────────┐┌───────────┐»\n",
       "q_1: ┤ RY(θ[1]) ├┤ RZ(θ[5]) ├┤ X ├──┼────┼───────■────────────■──────┤ RY(θ[9]) ├┤ RZ(θ[13]) ├»\n",
       "     ├──────────┤├──────────┤└───┘┌─┴─┐  │     ┌─┴─┐          │      └──────────┘├───────────┤»\n",
       "q_2: ┤ RY(θ[2]) ├┤ RZ(θ[6]) ├─────┤ X ├──┼─────┤ X ├──────────┼───────────■──────┤ RY(θ[10]) ├»\n",
       "     ├──────────┤├──────────┤     └───┘┌─┴─┐   └───┘        ┌─┴─┐       ┌─┴─┐    ├───────────┤»\n",
       "q_3: ┤ RY(θ[3]) ├┤ RZ(θ[7]) ├──────────┤ X ├────────────────┤ X ├───────┤ X ├────┤ RY(θ[11]) ├»\n",
       "     └──────────┘└──────────┘          └───┘                └───┘       └───┘    └───────────┘»\n",
       "«                            ┌───────────┐┌───────────┐                                            »\n",
       "«q_0: ──────■────────■────■──┤ RY(θ[16]) ├┤ RZ(θ[20]) ├────────────────────────────────■────────■──»\n",
       "«         ┌─┴─┐      │    │  └───────────┘└───────────┘┌───────────┐┌───────────┐    ┌─┴─┐      │  »\n",
       "«q_1: ────┤ X ├──────┼────┼────────■────────────■──────┤ RY(θ[17]) ├┤ RZ(θ[21]) ├────┤ X ├──────┼──»\n",
       "«     ┌───┴───┴───┐┌─┴─┐  │      ┌─┴─┐          │      └───────────┘├───────────┤┌───┴───┴───┐┌─┴─┐»\n",
       "«q_2: ┤ RZ(θ[14]) ├┤ X ├──┼──────┤ X ├──────────┼────────────■──────┤ RY(θ[18]) ├┤ RZ(θ[22]) ├┤ X ├»\n",
       "«     ├───────────┤└───┘┌─┴─┐    └───┘        ┌─┴─┐        ┌─┴─┐    ├───────────┤├───────────┤└───┘»\n",
       "«q_3: ┤ RZ(θ[15]) ├─────┤ X ├─────────────────┤ X ├────────┤ X ├────┤ RY(θ[19]) ├┤ RZ(θ[23]) ├─────»\n",
       "«     └───────────┘     └───┘                 └───┘        └───┘    └───────────┘└───────────┘     »\n",
       "«          ┌───────────┐┌───────────┐                                       \n",
       "«q_0: ──■──┤ RY(θ[24]) ├┤ RZ(θ[28]) ├───────────────────────────────────────\n",
       "«       │  └───────────┘└───────────┘┌───────────┐┌───────────┐             \n",
       "«q_1: ──┼────────■────────────■──────┤ RY(θ[25]) ├┤ RZ(θ[29]) ├─────────────\n",
       "«       │      ┌─┴─┐          │      └───────────┘├───────────┤┌───────────┐\n",
       "«q_2: ──┼──────┤ X ├──────────┼────────────■──────┤ RY(θ[26]) ├┤ RZ(θ[30]) ├\n",
       "«     ┌─┴─┐    └───┘        ┌─┴─┐        ┌─┴─┐    ├───────────┤├───────────┤\n",
       "«q_3: ┤ X ├─────────────────┤ X ├────────┤ X ├────┤ RY(θ[27]) ├┤ RZ(θ[31]) ├\n",
       "«     └───┘                 └───┘        └───┘    └───────────┘└───────────┘"
      ]
     },
     "metadata": {},
     "output_type": "display_data"
    },
    {
     "name": "stdout",
     "output_type": "stream",
     "text": [
      "\n"
     ]
    }
   ],
   "source": [
    "from qiskit.circuit.library import EfficientSU2\n",
    "entanglements = [\"linear\", \"full\"]\n",
    "for entanglement in entanglements:\n",
    "    form = EfficientSU2(num_qubits=4, entanglement=entanglement)\n",
    "    if entanglement == \"linear\":\n",
    "        print(\"=============Linear Entanglement:=============\")\n",
    "    else:\n",
    "        print(\"=============Full Entanglement:=============\")\n",
    "    # We initialize all parameters to 0 for this demonstration\n",
    "    display(form.draw(fold=100))\n",
    "    print()"
   ]
  },
  {
   "cell_type": "markdown",
   "metadata": {},
   "source": [
    "このセクションでは、プログラム的アプローチを用いたVQEの実装を説明します。Qiskit Aquaは宣言的な実装も可能にしますが、基礎となるアルゴリズムに関する情報が少なくなります。このコード、特にクビット演算子の準備は、Qiskit Tutorialsのリポジトリにあるコードに基づいています（2019年7月現在、https://github.com/Qiskit/qiskit-tutorials ）。\n",
    "\n",
    "まず、以下のライブラリをインポートする必要があります。"
   ]
  },
  {
   "cell_type": "code",
   "execution_count": 9,
   "metadata": {},
   "outputs": [],
   "source": [
    "from qiskit.aqua.algorithms import VQE, NumPyEigensolver\n",
    "import matplotlib.pyplot as plt\n",
    "import numpy as np\n",
    "from qiskit.chemistry.components.variational_forms import UCCSD\n",
    "from qiskit.chemistry.components.initial_states import HartreeFock\n",
    "from qiskit.circuit.library import EfficientSU2\n",
    "from qiskit.aqua.components.optimizers import COBYLA, SPSA, SLSQP\n",
    "from qiskit.aqua.operators import Z2Symmetries\n",
    "from qiskit import IBMQ, BasicAer, Aer\n",
    "from qiskit.chemistry.drivers import PySCFDriver, UnitsType\n",
    "from qiskit.chemistry import FermionicOperator\n",
    "from qiskit import IBMQ\n",
    "from qiskit.aqua import QuantumInstance\n",
    "from qiskit.ignis.mitigation.measurement import CompleteMeasFitter\n",
    "from qiskit.providers.aer.noise import NoiseModel"
   ]
  },
  {
   "cell_type": "markdown",
   "metadata": {},
   "source": [
    "様々な原子間距離におけるLiHの基底状態エネルギーの計算を実証した。各原子間距離で分子のドライバーを作らなければならない。この実験では、使用するqubitsの数を減らすために、コアを凍結させ、2つの未占有軌道を除去していることに注意してください。まず、原子間距離を取り、適切なクォビット演算子 H と、その演算子に関する他の情報を返す関数を定義する。"
   ]
  },
  {
   "cell_type": "code",
   "execution_count": 10,
   "metadata": {},
   "outputs": [],
   "source": [
    "def get_qubit_op(dist):\n",
    "    driver = PySCFDriver(atom=\"Li .0 .0 .0; H .0 .0 \" + str(dist), unit=UnitsType.ANGSTROM, \n",
    "                         charge=0, spin=0, basis='sto3g')\n",
    "    molecule = driver.run()\n",
    "    freeze_list = [0]\n",
    "    remove_list = [-3, -2]\n",
    "    repulsion_energy = molecule.nuclear_repulsion_energy\n",
    "    num_particles = molecule.num_alpha + molecule.num_beta\n",
    "    num_spin_orbitals = molecule.num_orbitals * 2\n",
    "    remove_list = [x % molecule.num_orbitals for x in remove_list]\n",
    "    freeze_list = [x % molecule.num_orbitals for x in freeze_list]\n",
    "    remove_list = [x - len(freeze_list) for x in remove_list]\n",
    "    remove_list += [x + molecule.num_orbitals - len(freeze_list)  for x in remove_list]\n",
    "    freeze_list += [x + molecule.num_orbitals for x in freeze_list]\n",
    "    ferOp = FermionicOperator(h1=molecule.one_body_integrals, h2=molecule.two_body_integrals)\n",
    "    ferOp, energy_shift = ferOp.fermion_mode_freezing(freeze_list)\n",
    "    num_spin_orbitals -= len(freeze_list)\n",
    "    num_particles -= len(freeze_list)\n",
    "    ferOp = ferOp.fermion_mode_elimination(remove_list)\n",
    "    num_spin_orbitals -= len(remove_list)\n",
    "    qubitOp = ferOp.mapping(map_type='parity', threshold=0.00000001)\n",
    "    qubitOp = Z2Symmetries.two_qubit_reduction(qubitOp, num_particles)\n",
    "    shift = energy_shift + repulsion_energy\n",
    "    return qubitOp, num_particles, num_spin_orbitals, shift"
   ]
  },
  {
   "cell_type": "markdown",
   "metadata": {},
   "source": [
    "最初に、クビット演算子と古典的な正確な固有値ソルバーを使用して、正確な基底状態のエネルギーが計算されます。その後、初期状態｜ψ⟩が生成され、これをVQEインスタンスが最終的なアンサッツminθ(|ψ(θ)⟩)を生成するために使用します。各原子間距離における正確な結果とVQEの結果が格納されます。vqe.run(backend)['energy'] + shiftで与えられた結果は、minθ(⟨ψ(θ)|H|ψ(θ)⟩)と等価であり、最小値は必ずしもグローバル最小値ではないことに注意してください。\n",
    "\n",
    "VQE(qubitOp, var_form, optimizer, 'matrix')でVQEインスタンスを初期化する場合、Hの期待値｜ψ(θ)⟩上のHは行列の乗算によって直接計算されます。しかし、実際の量子デバイスや、VQE(qubitOp, var_form, optimizer, 'paulis')を用いたqasm_simulatorのような真のシミュレータを使用する場合、期待値の計算はより複雑になります。ハミルトニアンはパウリ文字列の和として表現され、各パウリ項は使用されるマッピングで指定された通りにクォビットに作用します。それぞれのパウリ文字列は、対応する回路が｜ψ(θ)⟩ に対応する回路に付加されています。その後、これらの回路がそれぞれ実行され、すべての結果が｜ψ(θ)⟩ の H の期待値を決定するために使用されます。次の例では、VQE インスタンスを行列モードで初期化しているので、期待値は行列の乗算によって直接計算されます。\n",
    "\n",
    "以下のコードスニペットは、実行して完了するまでに数分かかる場合があることに注意してください。"
   ]
  },
  {
   "cell_type": "code",
   "execution_count": 14,
   "metadata": {},
   "outputs": [
    {
     "name": "stdout",
     "output_type": "stream",
     "text": [
      "<qiskit.chemistry.components.variational_forms.uccsd.UCCSD object at 0x7efc46dc8990>\n",
      "Interatomic Distance: 0.5 VQE Result: -7.039673441021999 Exact Energy: [-7.03973252]\n",
      "<qiskit.chemistry.components.variational_forms.uccsd.UCCSD object at 0x7efc334306d0>\n",
      "Interatomic Distance: 0.6 VQE Result: -7.313308880249155 Exact Energy: [-7.31334583]\n",
      "<qiskit.chemistry.components.variational_forms.uccsd.UCCSD object at 0x7efc338e6890>\n",
      "Interatomic Distance: 0.7 VQE Result: -7.500887034731441 Exact Energy: [-7.50092209]\n",
      "<qiskit.chemistry.components.variational_forms.uccsd.UCCSD object at 0x7efc44a7f0d0>\n",
      "Interatomic Distance: 0.8 VQE Result: -7.630945409722851 Exact Energy: [-7.63097825]\n",
      "<qiskit.chemistry.components.variational_forms.uccsd.UCCSD object at 0x7efc46b2efd0>\n",
      "Interatomic Distance: 0.9 VQE Result: -7.720781098910903 Exact Energy: [-7.72081241]\n",
      "<qiskit.chemistry.components.variational_forms.uccsd.UCCSD object at 0x7efc33818d90>\n",
      "Interatomic Distance: 1.0 VQE Result: -7.782211599433442 Exact Energy: [-7.7822424]\n",
      "<qiskit.chemistry.components.variational_forms.uccsd.UCCSD object at 0x7efc46c61a90>\n",
      "Interatomic Distance: 1.1 VQE Result: -7.823568080962408 Exact Energy: [-7.82359928]\n",
      "<qiskit.chemistry.components.variational_forms.uccsd.UCCSD object at 0x7efc4628d290>\n",
      "Interatomic Distance: 1.2 VQE Result: -7.850666132356581 Exact Energy: [-7.85069838]\n",
      "<qiskit.chemistry.components.variational_forms.uccsd.UCCSD object at 0x7efc31bd9d10>\n",
      "Interatomic Distance: 1.3 VQE Result: -7.867529586531959 Exact Energy: [-7.86756329]\n",
      "<qiskit.chemistry.components.variational_forms.uccsd.UCCSD object at 0x7efc46289e10>\n",
      "Interatomic Distance: 1.4 VQE Result: -7.8769662545341 Exact Energy: [-7.87700149]\n",
      "<qiskit.chemistry.components.variational_forms.uccsd.UCCSD object at 0x7efc46dea050>\n",
      "Interatomic Distance: 1.5 VQE Result: -7.880979507885269 Exact Energy: [-7.88101572]\n",
      "<qiskit.chemistry.components.variational_forms.uccsd.UCCSD object at 0x7efc33423e10>\n",
      "Interatomic Distance: 1.6 VQE Result: -7.881036616636475 Exact Energy: [-7.88107204]\n",
      "<qiskit.chemistry.components.variational_forms.uccsd.UCCSD object at 0x7efc46dea710>\n",
      "Interatomic Distance: 1.7 VQE Result: -7.878236971143716 Exact Energy: [-7.87826817]\n",
      "<qiskit.chemistry.components.variational_forms.uccsd.UCCSD object at 0x7efc471e10d0>\n",
      "Interatomic Distance: 1.8 VQE Result: -7.873345220060568 Exact Energy: [-7.87344029]\n",
      "<qiskit.chemistry.components.variational_forms.uccsd.UCCSD object at 0x7efc46dc8990>\n",
      "Interatomic Distance: 1.9 VQE Result: -7.867137507942463 Exact Energy: [-7.86723396]\n",
      "<qiskit.chemistry.components.variational_forms.uccsd.UCCSD object at 0x7efc38111b90>\n",
      "Interatomic Distance: 2.0 VQE Result: -7.860068376557903 Exact Energy: [-7.86015321]\n",
      "<qiskit.chemistry.components.variational_forms.uccsd.UCCSD object at 0x7efc471e10d0>\n",
      "Interatomic Distance: 2.1 VQE Result: -7.852535225552307 Exact Energy: [-7.85259583]\n",
      "<qiskit.chemistry.components.variational_forms.uccsd.UCCSD object at 0x7efc3a585090>\n",
      "Interatomic Distance: 2.2 VQE Result: -7.844839383628211 Exact Energy: [-7.84487909]\n",
      "<qiskit.chemistry.components.variational_forms.uccsd.UCCSD object at 0x7efc3a683fd0>\n",
      "Interatomic Distance: 2.3 VQE Result: -7.837212703799844 Exact Energy: [-7.83725797]\n",
      "<qiskit.chemistry.components.variational_forms.uccsd.UCCSD object at 0x7efc45568fd0>\n",
      "Interatomic Distance: 2.4 VQE Result: -7.82985324528277 Exact Energy: [-7.829937]\n",
      "<qiskit.chemistry.components.variational_forms.uccsd.UCCSD object at 0x7efc380dabd0>\n",
      "Interatomic Distance: 2.5 VQE Result: -7.822930297389774 Exact Energy: [-7.82307664]\n",
      "<qiskit.chemistry.components.variational_forms.uccsd.UCCSD object at 0x7efc31ba11d0>\n",
      "Interatomic Distance: 2.6 VQE Result: -7.816588438104789 Exact Energy: [-7.81679515]\n",
      "<qiskit.chemistry.components.variational_forms.uccsd.UCCSD object at 0x7efc471e10d0>\n",
      "Interatomic Distance: 2.7 VQE Result: -7.810934369707302 Exact Energy: [-7.81116828]\n",
      "<qiskit.chemistry.components.variational_forms.uccsd.UCCSD object at 0x7efc38191a50>\n",
      "Interatomic Distance: 2.8 VQE Result: -7.806014820602282 Exact Energy: [-7.80622956]\n",
      "<qiskit.chemistry.components.variational_forms.uccsd.UCCSD object at 0x7efc3386d290>\n",
      "Interatomic Distance: 2.9 VQE Result: -7.801736624785949 Exact Energy: [-7.8019736]\n",
      "<qiskit.chemistry.components.variational_forms.uccsd.UCCSD object at 0x7efc45568f90>\n",
      "Interatomic Distance: 3.0 VQE Result: -7.798083532622682 Exact Energy: [-7.79836343]\n",
      "<qiskit.chemistry.components.variational_forms.uccsd.UCCSD object at 0x7efc44a7f0d0>\n",
      "Interatomic Distance: 3.1 VQE Result: -7.79506018823772 Exact Energy: [-7.79534045]\n",
      "<qiskit.chemistry.components.variational_forms.uccsd.UCCSD object at 0x7efc31b2e9d0>\n",
      "Interatomic Distance: 3.2 VQE Result: -7.792367409645118 Exact Energy: [-7.79283481]\n",
      "<qiskit.chemistry.components.variational_forms.uccsd.UCCSD object at 0x7efc3aed2a50>\n",
      "Interatomic Distance: 3.3 VQE Result: -7.789686184407154 Exact Energy: [-7.79077401]\n",
      "<qiskit.chemistry.components.variational_forms.uccsd.UCCSD object at 0x7efc3380cbd0>\n",
      "Interatomic Distance: 3.4 VQE Result: -7.787375433391273 Exact Energy: [-7.7890889]\n",
      "<qiskit.chemistry.components.variational_forms.uccsd.UCCSD object at 0x7efc462a2690>\n",
      "Interatomic Distance: 3.5 VQE Result: -7.785627441975323 Exact Energy: [-7.78771697]\n",
      "<qiskit.chemistry.components.variational_forms.uccsd.UCCSD object at 0x7efc336d7c90>\n",
      "Interatomic Distance: 3.6 VQE Result: -7.784375117262837 Exact Energy: [-7.78660376]\n",
      "<qiskit.chemistry.components.variational_forms.uccsd.UCCSD object at 0x7efc338cb410>\n",
      "Interatomic Distance: 3.7 VQE Result: -7.783495989690456 Exact Energy: [-7.78570291]\n",
      "<qiskit.chemistry.components.variational_forms.uccsd.UCCSD object at 0x7efc46ae6ad0>\n",
      "Interatomic Distance: 3.8 VQE Result: -7.782885671482498 Exact Energy: [-7.78497559]\n",
      "<qiskit.chemistry.components.variational_forms.uccsd.UCCSD object at 0x7efc387a6a50>\n",
      "Interatomic Distance: 3.9 VQE Result: -7.782466680367032 Exact Energy: [-7.78438961]\n",
      "All energies have been calculated\n"
     ]
    }
   ],
   "source": [
    "backend = BasicAer.get_backend(\"statevector_simulator\")\n",
    "distances = np.arange(0.5, 4.0, 0.1)\n",
    "exact_energies = []\n",
    "vqe_energies = []\n",
    "optimizer = SLSQP(maxiter=5)\n",
    "for dist in distances:\n",
    "    qubitOp, num_particles, num_spin_orbitals, shift = get_qubit_op(dist)\n",
    "    result = NumPyEigensolver(qubitOp).run()\n",
    "    exact_energies.append(np.real(result.eigenvalues) + shift)\n",
    "    initial_state = HartreeFock(\n",
    "        num_spin_orbitals,\n",
    "        num_particles,\n",
    "        qubit_mapping='parity'\n",
    "    ) \n",
    "    var_form = UCCSD(\n",
    "        num_orbitals=num_spin_orbitals,\n",
    "        num_particles=num_particles,\n",
    "        initial_state=initial_state,\n",
    "        qubit_mapping='parity'\n",
    "    )\n",
    "    print(var_form)\n",
    "    vqe = VQE(qubitOp, var_form, optimizer)\n",
    "    vqe_result = np.real(vqe.run(backend)['eigenvalue'] + shift)\n",
    "    vqe_energies.append(vqe_result)\n",
    "    print(\"Interatomic Distance:\", np.round(dist, 2), \"VQE Result:\", vqe_result, \"Exact Energy:\", exact_energies[-1])\n",
    "    \n",
    "print(\"All energies have been calculated\")"
   ]
  },
  {
   "cell_type": "code",
   "execution_count": null,
   "metadata": {},
   "outputs": [],
   "source": []
  }
 ],
 "metadata": {
  "kernelspec": {
   "display_name": "Python 3",
   "language": "python",
   "name": "python3"
  },
  "language_info": {
   "codemirror_mode": {
    "name": "ipython",
    "version": 3
   },
   "file_extension": ".py",
   "mimetype": "text/x-python",
   "name": "python",
   "nbconvert_exporter": "python",
   "pygments_lexer": "ipython3",
   "version": "3.7.9"
  }
 },
 "nbformat": 4,
 "nbformat_minor": 4
}
