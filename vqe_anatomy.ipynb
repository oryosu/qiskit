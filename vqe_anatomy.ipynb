{
 "cells": [
  {
   "cell_type": "code",
   "execution_count": 1,
   "metadata": {},
   "outputs": [
    {
     "name": "stderr",
     "output_type": "stream",
     "text": [
      "/home/sonobe/anaconda3/envs/quantum/lib/python3.8/site-packages/urllib3/connection.py:379: SystemTimeWarning: System time is way off (before 2019-01-01). This will probably lead to SSL verification errors\n",
      "  warnings.warn(\n",
      "/home/sonobe/anaconda3/envs/quantum/lib/python3.8/site-packages/qiskit/providers/ibmq/ibmqfactory.py:192: UserWarning: Timestamps in IBMQ backend properties, jobs, and job results are all now in local time instead of UTC.\n",
      "  warnings.warn('Timestamps in IBMQ backend properties, jobs, and job results '\n",
      "/home/sonobe/anaconda3/envs/quantum/lib/python3.8/site-packages/urllib3/connection.py:379: SystemTimeWarning: System time is way off (before 2019-01-01). This will probably lead to SSL verification errors\n",
      "  warnings.warn(\n",
      "/home/sonobe/anaconda3/envs/quantum/lib/python3.8/site-packages/urllib3/connection.py:379: SystemTimeWarning: System time is way off (before 2019-01-01). This will probably lead to SSL verification errors\n",
      "  warnings.warn(\n",
      "/home/sonobe/anaconda3/envs/quantum/lib/python3.8/site-packages/urllib3/connection.py:379: SystemTimeWarning: System time is way off (before 2019-01-01). This will probably lead to SSL verification errors\n",
      "  warnings.warn(\n",
      "/home/sonobe/anaconda3/envs/quantum/lib/python3.8/site-packages/urllib3/connection.py:379: SystemTimeWarning: System time is way off (before 2019-01-01). This will probably lead to SSL verification errors\n",
      "  warnings.warn(\n"
     ]
    },
    {
     "name": "stdout",
     "output_type": "stream",
     "text": [
      "least busy backend:  ibmq_ourense\n"
     ]
    }
   ],
   "source": [
    "from qiskit.aqua.algorithms import VQE, NumPyEigensolver\n",
    "import matplotlib.pyplot as plt\n",
    "import numpy as np\n",
    "from qiskit.chemistry.components.variational_forms import UCCSD\n",
    "from qiskit.chemistry.components.initial_states import HartreeFock\n",
    "from qiskit.circuit.library import EfficientSU2\n",
    "from qiskit.aqua.components.optimizers import COBYLA, SPSA, SLSQP\n",
    "from qiskit.aqua.operators import Z2Symmetries\n",
    "from qiskit import IBMQ, BasicAer, Aer\n",
    "from qiskit.chemistry.drivers import PySCFDriver, UnitsType\n",
    "from qiskit.chemistry import FermionicOperator\n",
    "from qiskit import IBMQ\n",
    "from qiskit.aqua import QuantumInstance\n",
    "from qiskit.ignis.mitigation.measurement import CompleteMeasFitter\n",
    "from qiskit.providers.aer.noise import NoiseModel\n",
    "\n",
    "import numpy as np\n",
    "from numpy import pi\n",
    "# importing Qiskit\n",
    "from qiskit import QuantumCircuit, execute, Aer, IBMQ\n",
    "from qiskit.providers.ibmq import least_busy\n",
    "from qiskit.tools.monitor import job_monitor\n",
    "from qiskit.visualization import plot_histogram, plot_bloch_multivector\n",
    "from qiskit import QuantumCircuit, execute, Aer\n",
    "from qiskit.visualization import plot_histogram, plot_bloch_vector\n",
    "from math import sqrt, pi\n",
    "%config InlineBackend.figure_format = 'svg' # Makes the images look nice\n",
    "\n",
    "from qiskit import IBMQ\n",
    "IBMQ.save_account('78a4e395a27e3cce2d6bea6321d4b618bacc9db3c5f4506850b2616b7444da36b01e2c0d1f27119c77dbbde833366731ea64401e8fab2f852fa84a4c4317a11b', overwrite=True)\n",
    "\n",
    "IBMQ.load_account()\n",
    "provider = IBMQ.get_provider(hub='ibm-q')\n",
    "nqubits = 4\n",
    "backend = least_busy(provider.backends(filters=lambda x: x.configuration().n_qubits >= nqubits \n",
    "                                       and not x.configuration().simulator \n",
    "                                       and x.status().operational==True))\n",
    "print(\"least busy backend: \", backend)"
   ]
  },
  {
   "cell_type": "code",
   "execution_count": 3,
   "metadata": {},
   "outputs": [],
   "source": [
    "dist = 1.1\n",
    "driver = PySCFDriver(atom='H .0 .0 -{}; H .0 .0 {}'.format(str(dist/2),str(dist/2)), unit=UnitsType.ANGSTROM, charge=0, spin=0, basis='sto3g')\n",
    "molecule = driver.run()\n",
    "repulsion_energy = molecule.nuclear_repulsion_energy\n",
    "num_particles = molecule.num_alpha + molecule.num_beta\n",
    "num_spin_orbitals = molecule.num_orbitals * 2\n",
    "ferOp = FermionicOperator(h1=molecule.one_body_integrals, h2=molecule.two_body_integrals)\n",
    "qubitOp = ferOp.mapping(map_type='parity')\n",
    "qubitOp = Z2Symmetries.two_qubit_reduction(qubitOp, num_particles)\n",
    "exact_solution = NumPyEigensolver(qubitOp).run()\n",
    "#exact_energies.append(np.real(exact_solution.eigenvalues) + repulsion_energy)\n",
    "#print(\"Exact Result:\", np.real(exact_solution.eigenvalues) + molecule.nuclear_repulsion_energy)\n",
    "#print(num_spin_orbitals, num_particles)\n",
    "initial_state = HartreeFock(\n",
    "    num_spin_orbitals,\n",
    "    num_particles,\n",
    "    qubit_mapping='parity'\n",
    ")\n",
    "var_form = UCCSD(\n",
    "    num_orbitals=num_spin_orbitals,\n",
    "    num_particles=num_particles,\n",
    "    initial_state=initial_state,\n",
    "    qubit_mapping='parity'\n",
    ")"
   ]
  },
  {
   "cell_type": "code",
   "execution_count": 4,
   "metadata": {},
   "outputs": [],
   "source": [
    "initial_point = var_form.preferred_init_points"
   ]
  },
  {
   "cell_type": "code",
   "execution_count": 7,
   "metadata": {},
   "outputs": [],
   "source": [
    "def _energy_evaluation(self, parameters):\n",
    "        \"\"\"Evaluate energy at given parameters for the variational form.\n",
    "\n",
    "        This is the objective function to be passed to the optimizer that is used for evaluation.\n",
    "\n",
    "        Args:\n",
    "            parameters: The parameters for the variational form.\n",
    "\n",
    "        Returns:\n",
    "            Energy of the hamiltonian of each parameter.\n",
    "\n",
    "\n",
    "        Raises:\n",
    "            RuntimeError: If the variational form has no parameters.\n",
    "        \"\"\"\n",
    "        if not self._expect_op:\n",
    "            self._expect_op = self.construct_expectation(self._var_form_params)\n",
    "\n",
    "        num_parameters = self.var_form.num_parameters\n",
    "        if self._var_form.num_parameters == 0:\n",
    "            raise RuntimeError('The var_form cannot have 0 parameters.')\n",
    "\n",
    "        parameter_sets = np.reshape(parameters, (-1, num_parameters))\n",
    "        # Create dict associating each parameter with the lists of parameterization values for it\n",
    "        param_bindings = dict(zip(self._var_form_params,\n",
    "                                  parameter_sets.transpose().tolist()))  # type: Dict\n",
    "\n",
    "        start_time = time()\n",
    "        sampled_expect_op = self._circuit_sampler.convert(self._expect_op, params=param_bindings)\n",
    "        means = np.real(sampled_expect_op.eval())\n",
    "\n",
    "        if self._callback is not None:\n",
    "            variance = np.real(self._expectation.compute_variance(sampled_expect_op))\n",
    "            estimator_error = np.sqrt(variance / self.quantum_instance.run_config.shots)\n",
    "            for i, param_set in enumerate(parameter_sets):\n",
    "                self._eval_count += 1\n",
    "                self._callback(self._eval_count, param_set, means[i], estimator_error[i])\n",
    "        else:\n",
    "            self._eval_count += len(means)\n",
    "\n",
    "        end_time = time()\n",
    "        logger.info('Energy evaluation returned %s - %.5f (ms), eval count: %s',\n",
    "                    means, (end_time - start_time) * 1000, self._eval_count)\n",
    "\n",
    "        return means if len(means) > 1 else means[0]"
   ]
  },
  {
   "cell_type": "code",
   "execution_count": null,
   "metadata": {},
   "outputs": [],
   "source": []
  }
 ],
 "metadata": {
  "kernelspec": {
   "display_name": "Python 3",
   "language": "python",
   "name": "python3"
  },
  "language_info": {
   "codemirror_mode": {
    "name": "ipython",
    "version": 3
   },
   "file_extension": ".py",
   "mimetype": "text/x-python",
   "name": "python",
   "nbconvert_exporter": "python",
   "pygments_lexer": "ipython3",
   "version": "3.8.5"
  }
 },
 "nbformat": 4,
 "nbformat_minor": 4
}
